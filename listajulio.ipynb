{
  "nbformat": 4,
  "nbformat_minor": 0,
  "metadata": {
    "colab": {
      "provenance": [],
      "authorship_tag": "ABX9TyOefTIBgtQ2R5E9PWDSvoue"
    },
    "kernelspec": {
      "name": "python3",
      "display_name": "Python 3"
    },
    "language_info": {
      "name": "python"
    }
  },
  "cells": [
    {
      "cell_type": "markdown",
      "source": [
        "**Exercício 31**"
      ],
      "metadata": {
        "id": "xrjIxkskvf-c"
      }
    },
    {
      "cell_type": "code",
      "execution_count": null,
      "metadata": {
        "colab": {
          "base_uri": "https://localhost:8080/"
        },
        "id": "3xKAZJWGskXZ",
        "outputId": "27e05a95-d223-4c2e-9fa9-20ac06088962"
      },
      "outputs": [
        {
          "output_type": "stream",
          "name": "stdout",
          "text": [
            "a) Soma da linha 3: 65\n",
            "b) Soma da coluna 2: 60\n",
            "c) Soma da diagonal principal: 65\n",
            "d) Soma da diagonal secundária: 65\n",
            "e) Soma de todos os elementos da matriz: 325\n"
          ]
        }
      ],
      "source": [
        "M = [\n",
        "    [1, 2, 3, 4, 5],\n",
        "    [6, 7, 8, 9, 10],\n",
        "    [11, 12, 13, 14, 15],\n",
        "    [16, 17, 18, 19, 20],\n",
        "    [21, 22, 23, 24, 25]\n",
        "]\n",
        "\n",
        "soma_linha_3 = sum(M[2])\n",
        "print(f\"a) Soma da linha 3: {soma_linha_3}\")\n",
        "\n",
        "soma_coluna_2 = 0\n",
        "for i in range(5):\n",
        "    soma_coluna_2 += M[i][1]\n",
        "print(f\"b) Soma da coluna 2: {soma_coluna_2}\")\n",
        "\n",
        "soma_diagonal_principal = 0\n",
        "for i in range(5):\n",
        "    soma_diagonal_principal += M[i][i]\n",
        "print(f\"c) Soma da diagonal principal: {soma_diagonal_principal}\")\n",
        "\n",
        "soma_diagonal_secundaria = 0\n",
        "for i in range(5):\n",
        "    soma_diagonal_secundaria += M[i][4 - i]\n",
        "print(f\"d) Soma da diagonal secundária: {soma_diagonal_secundaria}\")\n",
        "\n",
        "soma_total = 0\n",
        "for linha in M:\n",
        "    soma_total += sum(linha)\n",
        "print(f\"e) Soma de todos os elementos da matriz: {soma_total}\")"
      ]
    },
    {
      "cell_type": "markdown",
      "source": [
        "**Exercício 32**"
      ],
      "metadata": {
        "id": "s5uor06NvnX1"
      }
    },
    {
      "cell_type": "code",
      "source": [
        "A = [\n",
        "    [1, 2, 3, 4, 5, 6],\n",
        "    [7, 8, 9, 10, 11, 12],\n",
        "    [13, 14, 15, 16, 17, 18],\n",
        "    [19, 20, 21, 22, 23, 24]\n",
        "]\n",
        "\n",
        "B = [\n",
        "    [24, 23, 22, 21, 20, 19],\n",
        "    [18, 17, 16, 15, 14, 13],\n",
        "    [12, 11, 10, 9, 8, 7],\n",
        "    [6, 5, 4, 3, 2, 1]\n",
        "]\n",
        "\n",
        "def imprimir_matriz(matriz, nome):\n",
        "    \"\"\"Imprime a matriz formatada.\"\"\"\n",
        "    print(f\"\\n--- Matriz {nome} ---\")\n",
        "    for linha in matriz:\n",
        "        print([f\"{x:3}\" for x in linha])\n",
        "\n",
        "S = []\n",
        "for i in range(4):\n",
        "    linha_s = []\n",
        "    for j in range(6):\n",
        "        linha_s.append(A[i][j] + B[i][j])\n",
        "    S.append(linha_s)\n",
        "\n",
        "D = []\n",
        "for i in range(4):\n",
        "    linha_d = []\n",
        "    for j in range(6):\n",
        "        linha_d.append(A[i][j] - B[i][j])\n",
        "    D.append(linha_d)\n",
        "\n",
        "imprimir_matriz(S, \"S (A + B)\")\n",
        "imprimir_matriz(D, \"D (A - B)\")"
      ],
      "metadata": {
        "colab": {
          "base_uri": "https://localhost:8080/"
        },
        "id": "xFTLurf1vtrU",
        "outputId": "b758807a-a71e-44ee-993e-f12489dbee50"
      },
      "execution_count": null,
      "outputs": [
        {
          "output_type": "stream",
          "name": "stdout",
          "text": [
            "\n",
            "--- Matriz S (A + B) ---\n",
            "[' 25', ' 25', ' 25', ' 25', ' 25', ' 25']\n",
            "[' 25', ' 25', ' 25', ' 25', ' 25', ' 25']\n",
            "[' 25', ' 25', ' 25', ' 25', ' 25', ' 25']\n",
            "[' 25', ' 25', ' 25', ' 25', ' 25', ' 25']\n",
            "\n",
            "--- Matriz D (A - B) ---\n",
            "['-23', '-21', '-19', '-17', '-15', '-13']\n",
            "['-11', ' -9', ' -7', ' -5', ' -3', ' -1']\n",
            "['  1', '  3', '  5', '  7', '  9', ' 11']\n",
            "[' 13', ' 15', ' 17', ' 19', ' 21', ' 23']\n"
          ]
        }
      ]
    },
    {
      "cell_type": "markdown",
      "source": [
        "**Exercício 33**"
      ],
      "metadata": {
        "id": "N-7RagSCxxWl"
      }
    },
    {
      "cell_type": "code",
      "source": [
        "def imprimir_matriz(matriz, nome=\"Matriz\"):\n",
        "    \"\"\"Imprime a matriz formatada.\"\"\"\n",
        "    print(f\"\\n--- {nome} ---\")\n",
        "    for linha in matriz:\n",
        "        print([f\"{x:3}\" for x in linha])\n",
        "\n",
        "A = [\n",
        "    [1, 2, 3, 4],\n",
        "    [5, 6, 7, 8],\n",
        "    [9, 10, 11, 12],\n",
        "    [13, 14, 15, 16]\n",
        "]\n",
        "\n",
        "imprimir_matriz(A, \"Matriz A\")\n",
        "\n",
        "superior = 0\n",
        "for i in range(2):\n",
        "    for j in range(2):\n",
        "        superior += A[i][j]\n",
        "print(f\"\\nquadrante superior esquerdo 2x2: {superior}\")\n",
        "\n",
        "inferior = 0\n",
        "for i in range(2, 4):\n",
        "    for j in range(2, 4):\n",
        "        inferior += A[i][j]\n",
        "print(f\"quadrante inferior direito 2x2: {inferior}\")\n",
        "\n",
        "L = 0\n",
        "for i in range(4):\n",
        "    L += A[i][0]\n",
        "for i in range(1, 4):\n",
        "    for j in range(1, 4):\n",
        "        L += A[i][j]\n",
        "print(f\"formato de 'L': {L}\")\n",
        "\n",
        "cruz = 0\n",
        "for j in range(1, 3):\n",
        "    cruz += A[1][j]\n",
        "for j in range(1, 3):\n",
        "    cruz += A[2][j]\n",
        "cruz += A[0][1] + A[3][1]\n",
        "cruz += A[0][2] + A[3][2]\n",
        "print(f\"cruz central: {cruz}\")"
      ],
      "metadata": {
        "colab": {
          "base_uri": "https://localhost:8080/"
        },
        "id": "tPSB3P6kxzp_",
        "outputId": "730e871a-5f72-43f3-cb62-2fdeec26f9ab"
      },
      "execution_count": null,
      "outputs": [
        {
          "output_type": "stream",
          "name": "stdout",
          "text": [
            "\n",
            "--- Matriz A ---\n",
            "['  1', '  2', '  3', '  4']\n",
            "['  5', '  6', '  7', '  8']\n",
            "['  9', ' 10', ' 11', ' 12']\n",
            "[' 13', ' 14', ' 15', ' 16']\n",
            "\n",
            "quadrante superior esquerdo 2x2: 14\n",
            "quadrante inferior direito 2x2: 54\n",
            "formato de 'L': 127\n",
            "cruz central: 68\n"
          ]
        }
      ]
    },
    {
      "cell_type": "markdown",
      "source": [
        "**Exercício 34**"
      ],
      "metadata": {
        "id": "xOw02bCq3Ifq"
      }
    },
    {
      "cell_type": "code",
      "source": [
        "D = [\n",
        "    [1, 2, 3, 4, 5],\n",
        "    [6, 7, 8, 9, 10],\n",
        "    [11, 12, 13, 14, 15],\n",
        "    [16, 17, 18, 19, 20],\n",
        "    [21, 22, 23, 24, 25]\n",
        "]\n",
        "\n",
        "def imprimir_matriz(matriz, nome=\"Matriz\"):\n",
        "    \"\"\"Imprime a matriz formatada.\"\"\"\n",
        "    print(f\"\\n--- {nome} ---\")\n",
        "    for linha in matriz:\n",
        "        print([f\"{x:3}\" for x in linha])\n",
        "\n",
        "imprimir_matriz(D, \"Matriz D\")\n",
        "\n",
        "while True:\n",
        "    try:\n",
        "        X = int(input(\"\\nDigite um número para buscar na matriz: \"))\n",
        "        break\n",
        "    except ValueError:\n",
        "        print(\"Entrada inválida. Por favor, digite um número inteiro.\")\n",
        "\n",
        "encontrado = False\n",
        "for i in range(5):\n",
        "    for j in range(5):\n",
        "        if D[i][j] == X:\n",
        "            encontrado = True\n",
        "            break\n",
        "    if encontrado:\n",
        "        break\n",
        "\n",
        "if encontrado:\n",
        "    print(f\"O valor {X} EXISTE na matriz.\")\n",
        "else:\n",
        "    print(f\"O valor {X} NÃO EXISTE na matriz.\")"
      ],
      "metadata": {
        "colab": {
          "base_uri": "https://localhost:8080/"
        },
        "id": "QTFkrVe63Man",
        "outputId": "981c788d-3818-431f-dc9f-a39f826f0a5c"
      },
      "execution_count": null,
      "outputs": [
        {
          "output_type": "stream",
          "name": "stdout",
          "text": [
            "\n",
            "--- Matriz D ---\n",
            "['  1', '  2', '  3', '  4', '  5']\n",
            "['  6', '  7', '  8', '  9', ' 10']\n",
            "[' 11', ' 12', ' 13', ' 14', ' 15']\n",
            "[' 16', ' 17', ' 18', ' 19', ' 20']\n",
            "[' 21', ' 22', ' 23', ' 24', ' 25']\n",
            "\n",
            "Digite um número para buscar na matriz: 23\n",
            "O valor 23 EXISTE na matriz.\n"
          ]
        }
      ]
    },
    {
      "cell_type": "markdown",
      "source": [
        "**Ecercício 35**"
      ],
      "metadata": {
        "id": "8znuK7Fm4GGu"
      }
    },
    {
      "cell_type": "code",
      "source": [
        "G = [\n",
        "    [1, 2, 3, 4, 5],\n",
        "    [6, 7, 8, 9, 10],\n",
        "    [11, 12, 13, 14, 15],\n",
        "    [16, 17, 18, 19, 20],\n",
        "    [21, 22, 23, 24, 25]\n",
        "]\n",
        "\n",
        "def imprimir_matriz(matriz, nome=\"Matriz\"):\n",
        "    \"\"\"Imprime a matriz formatada.\"\"\"\n",
        "    print(f\"\\n--- {nome} ---\")\n",
        "    for linha in matriz:\n",
        "        print([f\"{x:3}\" for x in linha])\n",
        "\n",
        "imprimir_matriz(G, \"Matriz G\")\n",
        "\n",
        "SL = [0] * 5\n",
        "SC = [0] * 5\n",
        "\n",
        "for i in range(5):\n",
        "    SL[i] = sum(G[i])\n",
        "\n",
        "for j in range(5):\n",
        "    for i in range(5):\n",
        "        SC[j] += G[i][j]\n",
        "\n",
        "print(f\"\\nSoma das Linhas\")\n",
        "print(SL)\n",
        "\n",
        "print(f\"\\nSoma das Colunas\")\n",
        "print(SC)"
      ],
      "metadata": {
        "colab": {
          "base_uri": "https://localhost:8080/"
        },
        "id": "3zR91wOP4Msz",
        "outputId": "f7526ca6-9d2f-4e43-a6fd-fde27b4526d7"
      },
      "execution_count": null,
      "outputs": [
        {
          "output_type": "stream",
          "name": "stdout",
          "text": [
            "\n",
            "--- Matriz G ---\n",
            "['  1', '  2', '  3', '  4', '  5']\n",
            "['  6', '  7', '  8', '  9', ' 10']\n",
            "[' 11', ' 12', ' 13', ' 14', ' 15']\n",
            "[' 16', ' 17', ' 18', ' 19', ' 20']\n",
            "[' 21', ' 22', ' 23', ' 24', ' 25']\n",
            "\n",
            "Soma das Linhas\n",
            "[15, 40, 65, 90, 115]\n",
            "\n",
            "Soma das Colunas\n",
            "[55, 60, 65, 70, 75]\n"
          ]
        }
      ]
    },
    {
      "cell_type": "markdown",
      "source": [
        "**Exercício 36**"
      ],
      "metadata": {
        "id": "tuEPfz8m4wZz"
      }
    },
    {
      "cell_type": "code",
      "source": [
        "import random\n",
        "\n",
        "def criar_matriz_aleatoria(linhas, colunas, min_val=1, max_val=20):\n",
        "    \"\"\"Cria uma matriz com valores inteiros aleatórios para demonstração.\"\"\"\n",
        "    matriz = []\n",
        "    for _ in range(linhas):\n",
        "        linha = [random.randint(min_val, max_val) for _ in range(colunas)]\n",
        "        matriz.append(linha)\n",
        "    return matriz\n",
        "\n",
        "def imprimir_matriz(matriz, nome=\"Matriz\"):\n",
        "    \"\"\"Imprime a matriz formatada.\"\"\"\n",
        "    print(f\"\\n--- {nome} ---\")\n",
        "    for linha in matriz:\n",
        "        print([f\"{x:8.4f}\" for x in linha])\n",
        "\n",
        "A = criar_matriz_aleatoria(12, 13)\n",
        "\n",
        "print(\"Matriz A Original:\")\n",
        "imprimir_matriz(A, \"A Original\")\n",
        "A_modificada = []\n",
        "\n",
        "for i in range(12):\n",
        "    linha_original = A[i]\n",
        "\n",
        "    maior_elemento_linha = max(linha_original)\n",
        "\n",
        "    if maior_elemento_linha == 0:\n",
        "        print(f\"Aviso: Maior elemento na linha {i} é zero. Divisão por zero evitada.\")\n",
        "        linha_modificada = [0.0] * 13\n",
        "    else:\n",
        "        linha_modificada = [elemento / maior_elemento_linha for elemento in linha_original]\n",
        "\n",
        "    A_modificada.append(linha_modificada)\n",
        "\n",
        "print(\"\\nMatriz A Modificada (dividida pelo maior elemento de cada linha):\")\n",
        "imprimir_matriz(A_modificada, \"A Modificada\")"
      ],
      "metadata": {
        "colab": {
          "base_uri": "https://localhost:8080/"
        },
        "id": "S-lldBID4y6J",
        "outputId": "1f69c105-ec87-413c-acb2-6ed2aeb90a81"
      },
      "execution_count": null,
      "outputs": [
        {
          "output_type": "stream",
          "name": "stdout",
          "text": [
            "Matriz A Original:\n",
            "\n",
            "--- A Original ---\n",
            "[' 18.0000', '  8.0000', ' 12.0000', '  7.0000', ' 16.0000', ' 18.0000', ' 11.0000', ' 14.0000', ' 13.0000', ' 10.0000', ' 10.0000', '  9.0000', ' 19.0000']\n",
            "[' 13.0000', ' 12.0000', '  9.0000', ' 11.0000', ' 10.0000', '  4.0000', '  5.0000', '  9.0000', ' 17.0000', '  6.0000', ' 10.0000', ' 17.0000', ' 13.0000']\n",
            "['  4.0000', '  8.0000', ' 14.0000', ' 14.0000', ' 18.0000', '  6.0000', ' 15.0000', '  5.0000', ' 13.0000', ' 20.0000', '  3.0000', ' 17.0000', ' 19.0000']\n",
            "[' 18.0000', ' 20.0000', ' 10.0000', '  8.0000', '  4.0000', '  5.0000', ' 10.0000', '  6.0000', '  5.0000', ' 18.0000', '  4.0000', ' 10.0000', ' 17.0000']\n",
            "[' 18.0000', ' 14.0000', ' 18.0000', '  6.0000', ' 11.0000', ' 19.0000', ' 14.0000', '  2.0000', ' 17.0000', ' 18.0000', ' 19.0000', ' 14.0000', '  6.0000']\n",
            "[' 14.0000', '  3.0000', '  6.0000', ' 18.0000', '  4.0000', '  5.0000', ' 10.0000', ' 13.0000', ' 10.0000', ' 11.0000', '  3.0000', ' 18.0000', ' 12.0000']\n",
            "[' 15.0000', ' 13.0000', ' 13.0000', ' 17.0000', ' 11.0000', ' 20.0000', ' 10.0000', '  5.0000', ' 20.0000', ' 13.0000', ' 16.0000', ' 15.0000', ' 12.0000']\n",
            "[' 12.0000', ' 14.0000', '  5.0000', '  5.0000', ' 11.0000', ' 11.0000', ' 12.0000', '  4.0000', '  7.0000', '  7.0000', '  9.0000', '  8.0000', ' 12.0000']\n",
            "['  6.0000', ' 11.0000', ' 17.0000', ' 16.0000', '  5.0000', ' 18.0000', '  4.0000', ' 20.0000', '  3.0000', ' 14.0000', ' 10.0000', '  3.0000', '  8.0000']\n",
            "[' 10.0000', ' 18.0000', ' 18.0000', '  6.0000', ' 14.0000', '  7.0000', ' 15.0000', '  5.0000', ' 17.0000', ' 14.0000', ' 16.0000', ' 18.0000', '  6.0000']\n",
            "['  5.0000', ' 15.0000', ' 20.0000', ' 13.0000', '  4.0000', ' 19.0000', '  1.0000', '  8.0000', ' 11.0000', '  5.0000', '  2.0000', '  1.0000', '  7.0000']\n",
            "['  4.0000', '  8.0000', ' 14.0000', '  1.0000', '  2.0000', '  1.0000', ' 20.0000', ' 14.0000', ' 14.0000', ' 19.0000', ' 10.0000', ' 11.0000', '  3.0000']\n",
            "\n",
            "Matriz A Modificada (dividida pelo maior elemento de cada linha):\n",
            "\n",
            "--- A Modificada ---\n",
            "['  0.9474', '  0.4211', '  0.6316', '  0.3684', '  0.8421', '  0.9474', '  0.5789', '  0.7368', '  0.6842', '  0.5263', '  0.5263', '  0.4737', '  1.0000']\n",
            "['  0.7647', '  0.7059', '  0.5294', '  0.6471', '  0.5882', '  0.2353', '  0.2941', '  0.5294', '  1.0000', '  0.3529', '  0.5882', '  1.0000', '  0.7647']\n",
            "['  0.2000', '  0.4000', '  0.7000', '  0.7000', '  0.9000', '  0.3000', '  0.7500', '  0.2500', '  0.6500', '  1.0000', '  0.1500', '  0.8500', '  0.9500']\n",
            "['  0.9000', '  1.0000', '  0.5000', '  0.4000', '  0.2000', '  0.2500', '  0.5000', '  0.3000', '  0.2500', '  0.9000', '  0.2000', '  0.5000', '  0.8500']\n",
            "['  0.9474', '  0.7368', '  0.9474', '  0.3158', '  0.5789', '  1.0000', '  0.7368', '  0.1053', '  0.8947', '  0.9474', '  1.0000', '  0.7368', '  0.3158']\n",
            "['  0.7778', '  0.1667', '  0.3333', '  1.0000', '  0.2222', '  0.2778', '  0.5556', '  0.7222', '  0.5556', '  0.6111', '  0.1667', '  1.0000', '  0.6667']\n",
            "['  0.7500', '  0.6500', '  0.6500', '  0.8500', '  0.5500', '  1.0000', '  0.5000', '  0.2500', '  1.0000', '  0.6500', '  0.8000', '  0.7500', '  0.6000']\n",
            "['  0.8571', '  1.0000', '  0.3571', '  0.3571', '  0.7857', '  0.7857', '  0.8571', '  0.2857', '  0.5000', '  0.5000', '  0.6429', '  0.5714', '  0.8571']\n",
            "['  0.3000', '  0.5500', '  0.8500', '  0.8000', '  0.2500', '  0.9000', '  0.2000', '  1.0000', '  0.1500', '  0.7000', '  0.5000', '  0.1500', '  0.4000']\n",
            "['  0.5556', '  1.0000', '  1.0000', '  0.3333', '  0.7778', '  0.3889', '  0.8333', '  0.2778', '  0.9444', '  0.7778', '  0.8889', '  1.0000', '  0.3333']\n",
            "['  0.2500', '  0.7500', '  1.0000', '  0.6500', '  0.2000', '  0.9500', '  0.0500', '  0.4000', '  0.5500', '  0.2500', '  0.1000', '  0.0500', '  0.3500']\n",
            "['  0.2000', '  0.4000', '  0.7000', '  0.0500', '  0.1000', '  0.0500', '  1.0000', '  0.7000', '  0.7000', '  0.9500', '  0.5000', '  0.5500', '  0.1500']\n"
          ]
        }
      ]
    },
    {
      "cell_type": "markdown",
      "source": [
        "**Exercício 37**"
      ],
      "metadata": {
        "id": "JOecLgKv7bnD"
      }
    },
    {
      "cell_type": "code",
      "source": [
        "def ler_gabarito():\n",
        "    gabarito = []\n",
        "    print(\"--- Digite o Gabarito da Loteria (13 elementos)\")\n",
        "    print(\"1 - Coluna um | 2 - Coluna do meio | 3 - Coluna dois\")\n",
        "\n",
        "    for i in range(13):\n",
        "        while True:\n",
        "            try:\n",
        "                valor = int(input(f\"Digite o valor para o jogo {i+1} (1, 2 ou 3): \"))\n",
        "                if valor in [1, 2, 3]:\n",
        "                    gabarito.append(valor)\n",
        "                    break\n",
        "                else:\n",
        "                    print(\"Entrada inválida. Por favor, digite 1, 2 ou 3.\")\n",
        "            except ValueError:\n",
        "                print(\"Entrada inválida. Por favor, digite um número inteiro.\")\n",
        "    return gabarito\n",
        "\n",
        "G = ler_gabarito()\n",
        "\n",
        "print(\"\\nGabarito da Loteria\")\n",
        "print(G)"
      ],
      "metadata": {
        "colab": {
          "base_uri": "https://localhost:8080/"
        },
        "id": "UovAb2G97jDH",
        "outputId": "f65a7d4a-2995-4ba1-8b35-8ba169f4e06b"
      },
      "execution_count": null,
      "outputs": [
        {
          "output_type": "stream",
          "name": "stdout",
          "text": [
            "--- Digite o Gabarito da Loteria (13 elementos)\n",
            "1 - Coluna um | 2 - Coluna do meio | 3 - Coluna dois\n",
            "Digite o valor para o jogo 1 (1, 2 ou 3): 1\n",
            "Digite o valor para o jogo 2 (1, 2 ou 3): 2\n",
            "Digite o valor para o jogo 3 (1, 2 ou 3): 3\n",
            "Digite o valor para o jogo 4 (1, 2 ou 3): 1\n",
            "Digite o valor para o jogo 5 (1, 2 ou 3): 2\n",
            "Digite o valor para o jogo 6 (1, 2 ou 3): 5\n",
            "Entrada inválida. Por favor, digite 1, 2 ou 3.\n",
            "Digite o valor para o jogo 6 (1, 2 ou 3): 3\n",
            "Digite o valor para o jogo 7 (1, 2 ou 3): 5\n",
            "Entrada inválida. Por favor, digite 1, 2 ou 3.\n",
            "Digite o valor para o jogo 7 (1, 2 ou 3): 2\n",
            "Digite o valor para o jogo 8 (1, 2 ou 3): 1\n",
            "Digite o valor para o jogo 9 (1, 2 ou 3): 3\n",
            "Digite o valor para o jogo 10 (1, 2 ou 3): 2\n",
            "Digite o valor para o jogo 11 (1, 2 ou 3): 1\n",
            "Digite o valor para o jogo 12 (1, 2 ou 3): 3\n",
            "Digite o valor para o jogo 13 (1, 2 ou 3): 2\n",
            "\n",
            "Gabarito da Loteria\n",
            "[1, 2, 3, 1, 2, 3, 2, 1, 3, 2, 1, 3, 2]\n"
          ]
        }
      ]
    },
    {
      "cell_type": "markdown",
      "source": [
        "**Exercício 38**"
      ],
      "metadata": {
        "id": "-HkBjGiW9zcw"
      }
    },
    {
      "cell_type": "code",
      "source": [
        "resultado_oficial = [0, 1, 2, 0, 1, 2, 0, 2, 1, 0, 1, 2, 0]\n",
        "\n",
        "apostas = []\n",
        "print(\"Digite a matriz de apostas (13 linhas, 3 colunas - 0 ou 1):\")\n",
        "for i in range(13):\n",
        "    linha = list(map(int, input(f\"Linha {i+1}: \").split()))\n",
        "    apostas.append(linha)\n",
        "\n",
        "pontos = 0\n",
        "simples = 0\n",
        "dupla = 0\n",
        "tripla = 0\n",
        "\n",
        "for i in range(13):\n",
        "    tipo_aposta = sum(apostas[i])\n",
        "    if tipo_aposta == 1:\n",
        "        simples += 1\n",
        "    elif tipo_aposta == 2:\n",
        "        dupla += 1\n",
        "    elif tipo_aposta == 3:\n",
        "        tripla += 1\n",
        "\n",
        "if apostas[i][resultado_oficial[i]] == 1:\n",
        "  pontos += 1\n",
        "\n",
        "print(f\"\\nTotal de pontos: {pontos}\")\n",
        "print(f\"Apostas simples: {simples}\")\n",
        "print(f\"Apostas duplas: {dupla}\")\n",
        "print(f\"Apostas triplas: {tripla}\")\n"
      ],
      "metadata": {
        "colab": {
          "base_uri": "https://localhost:8080/"
        },
        "id": "yhvO26AR94Gc",
        "outputId": "35560551-fadb-4f7b-94f1-c071eab43192"
      },
      "execution_count": null,
      "outputs": [
        {
          "output_type": "stream",
          "name": "stdout",
          "text": [
            "Digite a matriz de apostas (13 linhas, 3 colunas - 0 ou 1):\n",
            "Linha 1: 1\n",
            "Linha 2: 1\n",
            "Linha 3: 0\n",
            "Linha 4: 0\n",
            "Linha 5: 1\n",
            "Linha 6: 0\n",
            "Linha 7: 1\n",
            "Linha 8: 0\n",
            "Linha 9: 0\n",
            "Linha 10: 1\n",
            "Linha 11: 1\n",
            "Linha 12: 1\n",
            "Linha 13: 0\n",
            "\n",
            "Total de pontos: 0\n",
            "Apostas simples: 7\n",
            "Apostas duplas: 0\n",
            "Apostas triplas: 0\n"
          ]
        }
      ]
    },
    {
      "cell_type": "markdown",
      "source": [
        "**Exercício 39**"
      ],
      "metadata": {
        "id": "-BhSreUtKeuH"
      }
    },
    {
      "cell_type": "code",
      "source": [
        "def somar(a, b):\n",
        "    return a + b\n",
        "\n",
        "def subtrair(a, b):\n",
        "    return a - b\n",
        "\n",
        "def multiplicar(a, b):\n",
        "    return a * b\n",
        "\n",
        "def dividir(a, b):\n",
        "    if b == 0:\n",
        "        return \"Erro: divisão por zero!\"\n",
        "    return a / b\n",
        "\n",
        "def calculadora():\n",
        "    print(\"Calculadora básica\")\n",
        "    a = float(input(\"Digite o primeiro valor: \"))\n",
        "    b = float(input(\"Digite o segundo valor: \"))\n",
        "\n",
        "    print(\"\\nEscolha a operação:\")\n",
        "    print(\"1 - Soma\")\n",
        "    print(\"2 - Subtração\")\n",
        "    print(\"3 - Multiplicação\")\n",
        "    print(\"4 - Divisão\")\n",
        "    opcao = input(\"Digite o número da operação: \")\n",
        "\n",
        "    if opcao == '1':\n",
        "        resultado = somar(a, b)\n",
        "        simbolo = '+'\n",
        "    elif opcao == '2':\n",
        "        resultado = subtrair(a, b)\n",
        "        simbolo = '-'\n",
        "    elif opcao == '3':\n",
        "        resultado = multiplicar(a, b)\n",
        "        simbolo = '*'\n",
        "    elif opcao == '4':\n",
        "        resultado = dividir(a, b)\n",
        "        simbolo = '/'\n",
        "    else:\n",
        "        print(\"Operação inválida.\")\n",
        "        return\n",
        "\n",
        "    print(f\"\\nResultado: {a} {simbolo} {b} = {resultado}\")\n",
        "\n",
        "# Executa a calculadora\n",
        "calculadora()\n"
      ],
      "metadata": {
        "colab": {
          "base_uri": "https://localhost:8080/"
        },
        "id": "l7PjtYmYKhpr",
        "outputId": "42e0637b-1b29-4f6b-9ffc-aa7b3d384b6c"
      },
      "execution_count": null,
      "outputs": [
        {
          "output_type": "stream",
          "name": "stdout",
          "text": [
            "Calculadora básica\n",
            "Digite o primeiro valor: 32\n",
            "Digite o segundo valor: 73\n",
            "\n",
            "Escolha a operação:\n",
            "1 - Soma\n",
            "2 - Subtração\n",
            "3 - Multiplicação\n",
            "4 - Divisão\n",
            "Digite o número da operação: 2\n",
            "\n",
            "Resultado: 32.0 - 73.0 = -41.0\n"
          ]
        }
      ]
    },
    {
      "cell_type": "markdown",
      "source": [
        "**Exercício 40**"
      ],
      "metadata": {
        "id": "rAZ00KMoL67K"
      }
    },
    {
      "cell_type": "code",
      "source": [
        "def somar(a, b):\n",
        "    return a + b\n",
        "\n",
        "def subtrair(a, b):\n",
        "    return a - b\n",
        "\n",
        "def multiplicar(a, b):\n",
        "    resultado = 0\n",
        "    for _ in range(abs(int(b))):\n",
        "        resultado += a\n",
        "    if b < 0:\n",
        "        resultado = -resultado\n",
        "    return resultado\n",
        "\n",
        "def dividir(a, b):\n",
        "    if b == 0:\n",
        "        return \"Erro: divisão por zero!\"\n",
        "    return a / b\n",
        "\n",
        "def calculadora():\n",
        "    print(\"Calculadora básica\")\n",
        "    a = float(input(\"Digite o primeiro valor: \"))\n",
        "    b = float(input(\"Digite o segundo valor: \"))\n",
        "\n",
        "    print(\"\\nEscolha a operação:\")\n",
        "    print(\"1 - Soma\")\n",
        "    print(\"2 - Subtração\")\n",
        "    print(\"3 - Multiplicação\")\n",
        "    print(\"4 - Divisão\")\n",
        "    opcao = input(\"Digite o número da operação: \")\n",
        "\n",
        "    if opcao == '1':\n",
        "        resultado = somar(a, b)\n",
        "        simbolo = '+'\n",
        "    elif opcao == '2':\n",
        "        resultado = subtrair(a, b)\n",
        "        simbolo = '-'\n",
        "    elif opcao == '3':\n",
        "        resultado = multiplicar(a, b)\n",
        "        simbolo = '*'\n",
        "    elif opcao == '4':\n",
        "        resultado = dividir(a, b)\n",
        "        simbolo = '/'\n",
        "    else:\n",
        "        print(\"Operação inválida.\")\n",
        "        return\n",
        "\n",
        "    print(f\"\\nResultado: {a} {simbolo} {b} = {resultado}\")\n",
        "\n",
        "# Executa a calculadora\n",
        "calculadora()\n"
      ],
      "metadata": {
        "colab": {
          "base_uri": "https://localhost:8080/"
        },
        "id": "7rRL-ompLZJ4",
        "outputId": "f1428aab-efaa-483c-b57f-001520c22433"
      },
      "execution_count": null,
      "outputs": [
        {
          "output_type": "stream",
          "name": "stdout",
          "text": [
            "Calculadora básica\n",
            "Digite o primeiro valor: 3\n",
            "Digite o segundo valor: 8\n",
            "\n",
            "Escolha a operação:\n",
            "1 - Soma\n",
            "2 - Subtração\n",
            "3 - Multiplicação\n",
            "4 - Divisão\n",
            "Digite o número da operação: 3\n",
            "\n",
            "Resultado: 3.0 * 8.0 = 24.0\n"
          ]
        }
      ]
    },
    {
      "cell_type": "markdown",
      "source": [
        "**Exercício 41**"
      ],
      "metadata": {
        "id": "GqX3fWCVOE7C"
      }
    },
    {
      "cell_type": "code",
      "source": [
        "def velocidade_media(distancia, tempo):\n",
        "    if tempo == 0:\n",
        "        return \"Erro: o tempo não pode ser zero.\"\n",
        "    return distancia / tempo"
      ],
      "metadata": {
        "colab": {
          "base_uri": "https://localhost:8080/"
        },
        "id": "zsZMkpUjOIfn",
        "outputId": "1811e8df-b22c-4e61-8831-692528d33f5b"
      },
      "execution_count": null,
      "outputs": [
        {
          "output_type": "stream",
          "name": "stdout",
          "text": [
            "Digite a distância percorrida (em metros): 2334\n",
            "Digite o tempo gasto (em segundos): 35\n",
            "Velocidade média: 66.68571428571428 m/s\n"
          ]
        }
      ]
    },
    {
      "cell_type": "markdown",
      "source": [
        "**Ecercício 42**"
      ],
      "metadata": {
        "id": "zBh83B5JQnzo"
      }
    },
    {
      "cell_type": "code",
      "source": [
        "def divisao(a, b):\n",
        "    if b == 0:\n",
        "        return \"Erro: divisão por zero.\"\n",
        "    return a / b\n",
        "\n",
        "def velocidade_media(distancia, tempo):\n",
        "    return divisao(distancia, tempo)\n",
        "\n",
        "d = float(input(\"Digite a distância percorrida (em metros): \"))\n",
        "t = float(input(\"Digite o tempo gasto (em segundos): \"))\n",
        "vm = velocidade_media(d, t)\n",
        "\n",
        "print(f\"Velocidade média: {vm} m/s\")\n"
      ],
      "metadata": {
        "colab": {
          "base_uri": "https://localhost:8080/"
        },
        "id": "9lW0mjJAQsaF",
        "outputId": "db4daacb-cf25-406c-9221-1b771d3c3887"
      },
      "execution_count": null,
      "outputs": [
        {
          "output_type": "stream",
          "name": "stdout",
          "text": [
            "Digite a distância percorrida (em metros): 2000\n",
            "Digite o tempo gasto (em segundos): 100\n",
            "Velocidade média: 20.0 m/s\n"
          ]
        }
      ]
    },
    {
      "cell_type": "markdown",
      "source": [
        "**Exercício 43**"
      ],
      "metadata": {
        "id": "uq9KqQcUQ9sl"
      }
    },
    {
      "cell_type": "code",
      "source": [
        "num = input(\"Digite um número: \")\n",
        "\n",
        "print(f\"Crescente: {''.join(sorted(num))}\")\n",
        "print(f\"Decrescente: {''.join(sorted(num, reverse=True))}\")\n",
        "print(f\"Reverso: {num[::-1]}\")"
      ],
      "metadata": {
        "id": "eHYDpRHbQ9UJ"
      },
      "execution_count": null,
      "outputs": []
    },
    {
      "cell_type": "markdown",
      "source": [
        "**Exercício 44**"
      ],
      "metadata": {
        "id": "0b2mux_dRePa"
      }
    },
    {
      "cell_type": "code",
      "source": [
        "def converter_para_12h(hora24, minuto):\n",
        "    if hora24 == 0:\n",
        "        return 12, minuto, 'A'\n",
        "    elif 1 <= hora24 < 12:\n",
        "        return hora24, minuto, 'A'\n",
        "    elif hora24 == 12:\n",
        "        return 12, minuto, 'P'\n",
        "    else:\n",
        "        return hora24 - 12, minuto, 'P'\n",
        "\n",
        "def exibir_12h(hora, minuto, periodo):\n",
        "    periodo_str = 'A.M.' if periodo == 'A' else 'P.M.'\n",
        "    print(f\"Horário em 12h: {hora}:{str(minuto).zfill(2)} {periodo_str}\")\n",
        "\n",
        "while True:\n",
        "    try:\n",
        "        h = int(input(\"Digite a hora (0-23): \"))\n",
        "        m = int(input(\"Digite os minutos (0-59): \"))\n",
        "\n",
        "        if not (0 <= h < 24 and 0 <= m < 60):\n",
        "            print(\"Hora ou minuto inválido. Tente novamente.\")\n",
        "            continue\n",
        "\n",
        "        hora12, minuto12, periodo = converter_para_12h(h, m)\n",
        "        exibir_12h(hora12, minuto12, periodo)\n",
        "\n",
        "        repetir = input(\"Deseja converter outro horário? (s/n): \").lower()\n",
        "        if repetir != 's':\n",
        "            print(\"Programa encerrado.\")\n",
        "            break\n",
        "    except ValueError:\n",
        "        print(\"Entrada inválida. Use apenas números inteiros.\")\n"
      ],
      "metadata": {
        "colab": {
          "base_uri": "https://localhost:8080/"
        },
        "id": "_YsH4LI1RhXT",
        "outputId": "e35a4a2d-f610-477a-8552-fc2f0e3eee75"
      },
      "execution_count": null,
      "outputs": [
        {
          "output_type": "stream",
          "name": "stdout",
          "text": [
            "Digite um número: 293\n",
            "Crescente: 239\n",
            "Decrescente: 932\n",
            "Reverso: 392\n"
          ]
        }
      ]
    },
    {
      "cell_type": "markdown",
      "source": [
        "**Exercicio 45**"
      ],
      "metadata": {
        "id": "Id_lbjS0RutG"
      }
    },
    {
      "cell_type": "code",
      "source": [
        "def data_por_extenso(data_str):\n",
        "    meses = [\"janeiro\", \"fevereiro\", \"março\", \"abril\", \"maio\", \"junho\",\n",
        "             \"julho\", \"agosto\", \"setembro\", \"outubro\", \"novembro\", \"dezembro\"]\n",
        "\n",
        "    try:\n",
        "        dia, mes, ano = map(int, data_str.split('/'))\n",
        "        if mes < 1 or mes > 12 or dia < 1 or dia > 31:\n",
        "            return None\n",
        "        return f\"{dia} de {meses[mes-1]} de {ano}\"\n",
        "    except:\n",
        "        return None\n",
        "\n",
        "print(data_por_extenso(\"15/03/2024\"))\n",
        "print(data_por_extenso(\"31/04/2023\"))\n",
        "print(data_por_extenso(\"abc\"))\n"
      ],
      "metadata": {
        "colab": {
          "base_uri": "https://localhost:8080/"
        },
        "id": "rHu484BSRxQ4",
        "outputId": "b2bc815e-bdaf-4cf4-a171-5fa69cc2bad0"
      },
      "execution_count": null,
      "outputs": [
        {
          "output_type": "stream",
          "name": "stdout",
          "text": [
            "15 de março de 2024\n",
            "31 de abril de 2023\n",
            "None\n"
          ]
        }
      ]
    }
  ]
}